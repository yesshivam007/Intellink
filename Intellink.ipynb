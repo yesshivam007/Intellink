{
 "cells": [
  {
   "cell_type": "markdown",
   "id": "63fb1aca-a8fa-4c17-96af-d78954768da8",
   "metadata": {
    "jp-MarkdownHeadingCollapsed": true
   },
   "source": [
    "## Importing Libraries"
   ]
  },
  {
   "cell_type": "code",
   "execution_count": 3,
   "id": "44bd2a17-d1d2-4465-85e6-9ee307c5eddc",
   "metadata": {},
   "outputs": [],
   "source": [
    "from selenium import webdriver\n",
    "from selenium.webdriver.common.keys import Keys\n",
    "from selenium.webdriver.common.by import By\n",
    "from selenium.webdriver.support.ui import WebDriverWait\n",
    "from selenium.webdriver.support import expected_conditions as EC\n",
    "from time import sleep\n",
    "import warnings\n",
    "warnings.filterwarnings('ignore')"
   ]
  },
  {
   "cell_type": "markdown",
   "id": "6cb47e6c-2385-47cd-a8de-5fc0d94740d9",
   "metadata": {
    "jp-MarkdownHeadingCollapsed": true
   },
   "source": [
    "## Functions"
   ]
  },
  {
   "cell_type": "code",
   "execution_count": 4,
   "id": "3b3a93c4-0e94-4296-99fa-0c3b824f0bc6",
   "metadata": {},
   "outputs": [],
   "source": [
    "# Wait Functions\n",
    "def explicit_wait_and_click(path):\n",
    "    try:\n",
    "        element_name = WebDriverWait(driver, 50).until(\n",
    "        EC.presence_of_element_located((By.XPATH, path))\n",
    "        )\n",
    "        element_name.click()\n",
    "        return element_name\n",
    "    except Exception as e:\n",
    "        print(e)\n",
    "\n",
    "\n",
    "def explicit_wait(path):\n",
    "    try:\n",
    "        element_name = WebDriverWait(driver, 50).until(\n",
    "        EC.presence_of_element_located((By.XPATH, path))\n",
    "        )\n",
    "        return element_name\n",
    "    except Exception as e:\n",
    "        print(e)\n",
    "\n",
    "def find_image(image_name , x = 0 , y = 0,click=1):\n",
    "    \n",
    "    image = lackey.findBest(image_name).getTarget()\n",
    "    pyautogui.locateCenterOnScreen(image_name,confidence=0.7)\n",
    "    pyautogui.click(image.getX()+x, image.getY()+y,button='left',clicks = click)\n",
    "    \n",
    "    return"
   ]
  },
  {
   "cell_type": "markdown",
   "id": "8dd3d9ab-e706-44dc-8f6c-f9aa0c50b64f",
   "metadata": {
    "jp-MarkdownHeadingCollapsed": true
   },
   "source": [
    "## Initialization"
   ]
  },
  {
   "cell_type": "code",
   "execution_count": 5,
   "id": "486e4874-7899-4a14-aec2-f345f3ac85d7",
   "metadata": {},
   "outputs": [],
   "source": [
    "username = \"shivamamrutkar1@gmail.com\"\n",
    "password = \"NewJoinee@94033\""
   ]
  },
  {
   "cell_type": "markdown",
   "id": "df63ca82-bc06-4665-9b23-c5ba39e5166b",
   "metadata": {},
   "source": [
    "## Setup"
   ]
  },
  {
   "cell_type": "code",
   "execution_count": 6,
   "id": "6f71bafc-a858-49e9-b4cd-b1ba7ea8d582",
   "metadata": {},
   "outputs": [],
   "source": [
    "company_name = ''\n",
    "job_role = 'Data Analyst'\n",
    "industry = 'Data/AI'\n",
    "iterations = 5\n",
    "custom_invitation_message = f\"\"\"Hi, I'm currently advancing my career in {industry} field and would greatly appreciate your guidance.\n",
    "\n",
    "Would you be open to connecting?\"\"\"\n",
    "search = f\"{job_role} {company_name}\""
   ]
  },
  {
   "cell_type": "markdown",
   "id": "fa9b9b62-8f4e-4a0d-9b3f-1ad99283a10d",
   "metadata": {
    "jp-MarkdownHeadingCollapsed": true
   },
   "source": [
    "## Code Flow"
   ]
  },
  {
   "cell_type": "code",
   "execution_count": 7,
   "id": "152cf487-0f33-48c5-81c1-7b6ffee264d4",
   "metadata": {},
   "outputs": [],
   "source": [
    "# Opening Website\n",
    "driver = webdriver.Chrome()\n",
    "driver.get(\"https://www.linkedin.com/login\")\n",
    "driver.maximize_window()\n",
    "\n",
    "sleep(2)"
   ]
  },
  {
   "cell_type": "code",
   "execution_count": 8,
   "id": "8f449546-65e3-45e3-b629-a48e15a5e25c",
   "metadata": {},
   "outputs": [],
   "source": [
    "# Login\n",
    "driver.find_element(By.XPATH, \"//*[@id='username']\").send_keys(username)\n",
    "driver.find_element(By.XPATH, \"//*[@id='password']\").send_keys(password)\n",
    "try:\n",
    "    temp_element = driver.find_element(By.XPATH, \"//*[@id='rememberMeOptIn-checkbox']\")\n",
    "    driver.execute_script(\"arguments[0].click();\", temp_element)\n",
    "except:\n",
    "    pass\n",
    "driver.find_element(By.XPATH, \"//*[@id='organic-div']/form/div[4]/button\").click()"
   ]
  },
  {
   "cell_type": "code",
   "execution_count": 9,
   "id": "9d78c0c8-9a53-4cd2-8053-d36249e07867",
   "metadata": {},
   "outputs": [],
   "source": [
    "# Enter Search\n",
    "driver.find_element(By.XPATH, \"//*[@id='global-nav-typeahead']/input\").clear()\n",
    "driver.find_element(By.XPATH, \"//*[@id='global-nav-typeahead']/input\").send_keys(search)\n",
    "driver.find_element(By.XPATH, \"//*[@id='global-nav-typeahead']/input\").send_keys(Keys.ENTER)\n",
    "sleep(3)"
   ]
  },
  {
   "cell_type": "code",
   "execution_count": 10,
   "id": "89c29a52-8f84-4e44-8515-896cb78a6281",
   "metadata": {
    "scrolled": true
   },
   "outputs": [],
   "source": [
    "all_buttons = driver.find_elements(By.TAG_NAME, \"button\")\n",
    "people_btn = [button for button in all_buttons if button.text == \"People\"]\n",
    "driver.execute_script(\"arguments[0].click();\", people_btn[0])"
   ]
  },
  {
   "cell_type": "code",
   "execution_count": 11,
   "id": "9cdb8cbd-1d65-4aea-84a5-ccf70a6e58c9",
   "metadata": {},
   "outputs": [],
   "source": [
    "for iter in range(iterations):\n",
    "    sleep(3)\n",
    "    all_buttons_on_page = driver.find_elements(By.TAG_NAME, \"button\")\n",
    "    connect_buttons = [button for button in all_buttons_on_page if button.text == \"Connect\"]\n",
    "    \n",
    "    for btn in connect_buttons:\n",
    "        driver.execute_script(\"arguments[0].click();\", btn)\n",
    "        sleep(3)\n",
    "        add_note_button = driver.find_element(By.XPATH, \"//button[@aria-label='Add a note']\")\n",
    "        driver.execute_script(\"arguments[0].click();\", add_note_button)\n",
    "        sleep(2)\n",
    "        driver.find_element(By.XPATH, \"//*[@id='custom-message']\").send_keys(custom_invitation_message)\n",
    "        send_invitation_button = driver.find_element(By.XPATH, \"//button[@aria-label='Send invitation']\")\n",
    "        driver.execute_script(\"arguments[0].click();\", send_invitation_button)\n",
    "\n",
    "    sleep(1)\n",
    "    driver.execute_script(\"window.scrollTo(0, 1200);\")\n",
    "    sleep(2)\n",
    "    all_buttons_on_page = driver.find_elements(By.TAG_NAME, \"button\")\n",
    "    next_button = [button for button in all_buttons_on_page if button.text == \"Next\"]\n",
    "    driver.execute_script(\"arguments[0].click();\", next_button[0])"
   ]
  }
 ],
 "metadata": {
  "kernelspec": {
   "display_name": "Python 3 (ipykernel)",
   "language": "python",
   "name": "python3"
  },
  "language_info": {
   "codemirror_mode": {
    "name": "ipython",
    "version": 3
   },
   "file_extension": ".py",
   "mimetype": "text/x-python",
   "name": "python",
   "nbconvert_exporter": "python",
   "pygments_lexer": "ipython3",
   "version": "3.11.4"
  }
 },
 "nbformat": 4,
 "nbformat_minor": 5
}
